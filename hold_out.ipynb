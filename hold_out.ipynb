{
 "cells": [
  {
   "cell_type": "markdown",
   "id": "a1c4e9fc-a683-4833-9778-a02e2d38c6e7",
   "metadata": {},
   "source": [
    "# hold-out"
   ]
  },
  {
   "cell_type": "code",
   "execution_count": 55,
   "id": "35d74cdf-4e76-4fc2-acb9-91164a8a5f2a",
   "metadata": {},
   "outputs": [],
   "source": [
    "# ライブラリのインポート\n",
    "import seaborn as sns\n",
    "import numpy as np\n",
    "import pandas as pd\n",
    "from sklearn.model_selection import train_test_split\n",
    "from sklearn.preprocessing import StandardScaler\n",
    "from sklearn.linear_model import LinearRegression\n",
    "from sklearn.metrics import mean_squared_error"
   ]
  },
  {
   "cell_type": "code",
   "execution_count": 39,
   "id": "d8a5815b-0734-4a8a-b04d-248003506dad",
   "metadata": {},
   "outputs": [],
   "source": [
    "# データのインポート\n",
    "df = sns.load_dataset('tips')\n",
    "y_col = 'tip'\n",
    "X = df.drop(columns = [y_col])\n",
    "\n",
    "#標準化のための前処理\n",
    "numeric_cols = X.select_dtypes(include=np.number).columns.to_list()\n",
    "X = pd.get_dummies(X, drop_first = True)\n",
    "y = df[y_col]\n",
    "\n",
    "#ホールドアウト法の実施\n",
    "X_train, X_test, y_train, y_test = train_test_split(X, y, test_size=0.3, random_state=0)"
   ]
  },
  {
   "cell_type": "code",
   "execution_count": 43,
   "id": "2d7fc494-3f99-4ff2-8aff-3d995986348d",
   "metadata": {},
   "outputs": [],
   "source": [
    "# 標準化の実施\n",
    "scaler = StandardScaler()\n",
    "X_train_scaled = X_train.copy()\n",
    "X_train_scaled[numeric_cols] = scaler.fit_transform(X_train[numeric_cols])"
   ]
  },
  {
   "cell_type": "code",
   "execution_count": 45,
   "id": "0271d190-1e88-4159-b4d5-ab5539861830",
   "metadata": {},
   "outputs": [],
   "source": [
    "# X_testの標準化\n",
    "X_test_scaled = X_test.copy()\n",
    "X_test_scaled[numeric_cols] = scaler.transform(X_test[numeric_cols])"
   ]
  },
  {
   "cell_type": "code",
   "execution_count": 57,
   "id": "eae08d25-a663-4f51-955e-aff76b101daa",
   "metadata": {},
   "outputs": [
    {
     "data": {
      "text/plain": [
       "0.955080898861715"
      ]
     },
     "execution_count": 57,
     "metadata": {},
     "output_type": "execute_result"
    }
   ],
   "source": [
    "# 線形回帰モデルの学習\n",
    "model = LinearRegression()\n",
    "model.fit(X_train_scaled, y_train)\n",
    "y_pred = model.predict(X_test_scaled)\n",
    "\n",
    "# MSE（最小二乗法）\n",
    "mean_squared_error(y_test, y_pred)"
   ]
  },
  {
   "cell_type": "code",
   "execution_count": null,
   "id": "9b99cee8-6bf9-45f1-b2fd-c3335d1cc426",
   "metadata": {},
   "outputs": [],
   "source": []
  },
  {
   "cell_type": "code",
   "execution_count": null,
   "id": "31e48d1f-e4f2-4abb-a0a7-2543c9b52302",
   "metadata": {},
   "outputs": [],
   "source": []
  }
 ],
 "metadata": {
  "kernelspec": {
   "display_name": "Python 3 (ipykernel)",
   "language": "python",
   "name": "python3"
  },
  "language_info": {
   "codemirror_mode": {
    "name": "ipython",
    "version": 3
   },
   "file_extension": ".py",
   "mimetype": "text/x-python",
   "name": "python",
   "nbconvert_exporter": "python",
   "pygments_lexer": "ipython3",
   "version": "3.9.13"
  }
 },
 "nbformat": 4,
 "nbformat_minor": 5
}
